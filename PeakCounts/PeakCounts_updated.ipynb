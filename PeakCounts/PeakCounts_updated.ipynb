{
 "cells": [
  {
   "cell_type": "markdown",
   "metadata": {
    "colab_type": "text",
    "id": "view-in-github"
   },
   "source": [
    "<a href=\"https://colab.research.google.com/github/VMBoehm/UndergradStudentProjects/blob/master/Jamie_and_Lister/VanessasNotebooks/PeakCounts.ipynb\" target=\"_parent\"><img src=\"https://colab.research.google.com/assets/colab-badge.svg\" alt=\"Open In Colab\"/></a>"
   ]
  },
  {
   "cell_type": "markdown",
   "metadata": {
    "colab_type": "text",
    "id": "0WMeoMlSGZZQ"
   },
   "source": [
    "# applying our methods to lensing convergence peak counts"
   ]
  },
  {
   "cell_type": "code",
   "execution_count": 46,
   "metadata": {
    "colab": {},
    "colab_type": "code",
    "id": "cAdh2R-2GZZS"
   },
   "outputs": [],
   "source": [
    "import numpy as np\n",
    "import pickle\n",
    "import matplotlib.pyplot as plt\n",
    "import warnings"
   ]
  },
  {
   "cell_type": "code",
   "execution_count": 47,
   "metadata": {
    "colab": {},
    "colab_type": "code",
    "id": "py9yvEKmG7De"
   },
   "outputs": [],
   "source": [
    "\n",
    "datapath='/Users/listerchenzhile/Desktop/data'\n"
   ]
  },
  {
   "cell_type": "markdown",
   "metadata": {},
   "source": [
    "### the paper: https://arxiv.org/pdf/1810.01781.pdf"
   ]
  },
  {
   "cell_type": "markdown",
   "metadata": {
    "colab_type": "text",
    "id": "zHYs33i5GZZV"
   },
   "source": [
    "### load the data"
   ]
  },
  {
   "cell_type": "code",
   "execution_count": 48,
   "metadata": {
    "colab": {},
    "colab_type": "code",
    "id": "nQpuWfzIHCyT"
   },
   "outputs": [],
   "source": [
    "data_scaled = np.load('/Users/listerchenzhile/Desktop/data/peakcnts_lhc.scaled.npy', allow_pickle = True)\n",
    "cosmo_params = np.load('/Users/listerchenzhile/Desktop/data/params.npy')\n",
    "covariance = np.load('/Users/listerchenzhile/Desktop/data/covariance.npy', allow_pickle = True)"
   ]
  },
  {
   "cell_type": "code",
   "execution_count": 49,
   "metadata": {},
   "outputs": [
    {
     "data": {
      "text/plain": [
       "(101, 9999, 50)"
      ]
     },
     "execution_count": 49,
     "metadata": {},
     "output_type": "execute_result"
    }
   ],
   "source": [
    "# 101 cosmologies, 10000 simulations per cosmology, 50 density bins (levels of 'flooding')\n",
    "data_scaled.shape"
   ]
  },
  {
   "cell_type": "code",
   "execution_count": 50,
   "metadata": {},
   "outputs": [
    {
     "data": {
      "image/png": "[encoded data removed]",
      "text/plain": [
       "<Figure size 432x288 with 1 Axes>"
      ]
     },
     "metadata": {
      "needs_background": "light"
     },
     "output_type": "display_data"
    }
   ],
   "source": [
    "# this is what the data looks like for 2 different cosmologies\n",
    "plt.plot(data_scaled[40,0:100,:].T)\n",
    "plt.plot(data_scaled[44,0:100,:].T)\n",
    "plt.show()"
   ]
  },
  {
   "cell_type": "markdown",
   "metadata": {},
   "source": [
    "### The data"
   ]
  },
  {
   "cell_type": "code",
   "execution_count": 51,
   "metadata": {},
   "outputs": [
    {
     "name": "stdout",
     "output_type": "stream",
     "text": [
      "[0.124  0.3028 2.3174]\n"
     ]
    }
   ],
   "source": [
    "# We pick a realization at a specific cosmology to be our data (you can change this!)\n",
    "# right now we choose a cosmology which is fairly close to the fiducial one (see below)\n",
    "index = 54\n",
    "data  = data_scaled[index][0]\n",
    "true_params = cosmo_params[index]\n",
    "print(true_params)"
   ]
  },
  {
   "cell_type": "markdown",
   "metadata": {
    "colab_type": "text",
    "id": "t587YJ6QGZZh"
   },
   "source": [
    "### Covariance Matrix"
   ]
  },
  {
   "cell_type": "code",
   "execution_count": 52,
   "metadata": {
    "colab": {},
    "colab_type": "code",
    "id": "fFdi_Vn7GZZi"
   },
   "outputs": [],
   "source": [
    "# compute covariance from covariance sims\n",
    "Cinv = np.linalg.inv(covariance)"
   ]
  },
  {
   "cell_type": "code",
   "execution_count": 53,
   "metadata": {},
   "outputs": [
    {
     "name": "stdout",
     "output_type": "stream",
     "text": [
      "[0.1 0.3 2.1]\n"
     ]
    }
   ],
   "source": [
    "# these are the fiducial parameter, i.e. the parameters the covariance was measured at \n",
    "fid_params = np.load('/Users/listerchenzhile/Desktop/data/theta.fid.npy',allow_pickle=True)\n",
    "print(fid_params)"
   ]
  },
  {
   "cell_type": "code",
   "execution_count": 54,
   "metadata": {},
   "outputs": [],
   "source": [
    "#testing fid_params\n",
    "fid_params_test = [1,1,1]"
   ]
  },
  {
   "cell_type": "markdown",
   "metadata": {},
   "source": [
    "### Constructing the data likelihood"
   ]
  },
  {
   "cell_type": "code",
   "execution_count": 55,
   "metadata": {
    "colab": {
     "base_uri": "https://localhost:8080/",
     "height": 35
    },
    "colab_type": "code",
    "id": "GOYnkJ-lGZZY",
    "outputId": "206646ae-e82c-4545-8372-f46a084ef8c6"
   },
   "outputs": [],
   "source": [
    "# average over all simulations for each cosmology\n",
    "means      = np.mean(data_scaled, axis=1)"
   ]
  },
  {
   "cell_type": "code",
   "execution_count": 56,
   "metadata": {},
   "outputs": [],
   "source": [
    "#pip install sklearn"
   ]
  },
  {
   "cell_type": "markdown",
   "metadata": {
    "colab_type": "text",
    "id": "sApfK474GZZn"
   },
   "source": [
    "#### Forward Model: Gaussian process interpolation of  means"
   ]
  },
  {
   "cell_type": "code",
   "execution_count": 57,
   "metadata": {
    "colab": {},
    "colab_type": "code",
    "id": "lXPnyXxHGZZo"
   },
   "outputs": [],
   "source": [
    "# A Gaussian process is a regression model, it learns to map x-> f(x) from some training data. \n",
    "# In our case x are the cosmological parameters and f(x) are the peak counts\n",
    "\n",
    "import sklearn\n",
    "from sklearn.gaussian_process import GaussianProcessRegressor\n",
    "from sklearn.gaussian_process.kernels import RBF, ConstantKernel as C\n",
    "\n",
    "\n",
    "kernel = C(1.0, (1e-4, 1e4)) * RBF(1, (1e-4, 1e4))\n",
    "#Instanciate a Gaussian Process model\n",
    "gp     = GaussianProcessRegressor(kernel=kernel, n_restarts_optimizer=10)\n",
    "\n",
    "\n",
    "# fit on means and parameters\n",
    "gp.fit(cosmo_params,means)\n",
    "\n",
    "#use the GP prediction to build the model\n",
    "#x=theta, cosmo params --> f(x): peak counts\n",
    "\n",
    "def fwdmodel(theta): \n",
    "    pred, stdev = gp.predict(np.array(theta).reshape(1,3),return_std=True)\n",
    "    return np.squeeze(pred.T)\n"
   ]
  },
  {
   "cell_type": "code",
   "execution_count": 58,
   "metadata": {
    "colab": {
     "base_uri": "https://localhost:8080/",
     "height": 283
    },
    "colab_type": "code",
    "id": "fn1uKx-F3Lbq",
    "outputId": "9c1b680b-00d4-46ba-afbe-fc8395efb3d5"
   },
   "outputs": [
    {
     "data": {
      "image/png": "[encoded data removed]",
      "text/plain": [
       "<Figure size 432x288 with 1 Axes>"
      ]
     },
     "metadata": {
      "needs_background": "light"
     },
     "output_type": "display_data"
    }
   ],
   "source": [
    "# Check how well the Gaussian process is doing\n",
    "\n",
    "plt.plot(fwdmodel(fid_params), label='mean at fiducial')\n",
    "plt.plot(fwdmodel(fid_params*1.01), label= 'fiducial+1%')\n",
    "plt.plot(fwdmodel(true_params), label='mean at truth')\n",
    "plt.plot(data, label='data')\n",
    "plt.legend()\n",
    "plt.show()"
   ]
  },
  {
   "cell_type": "code",
   "execution_count": 59,
   "metadata": {
    "colab": {},
    "colab_type": "code",
    "id": "ChPG_BOAGZZq"
   },
   "outputs": [],
   "source": [
    "# likelihood\n",
    "# We assume a Gaussian likelihood for the peak counts. \n",
    "# Can you think of reasons why this is a reasonable assumption?\n",
    "# Hint: Peak counts are a binned statistic (a sum of a random number)\n",
    "\n",
    "def likelihood(data, params):\n",
    "    mu  = fwdmodel(params)\n",
    "    x   = data - mu\n",
    "    # linalg.slogdet is numerically more stable than np.log(linalg.det())\n",
    "    _, logdet = np.linalg.slogdet(Cinv)\n",
    "    x   = np.squeeze(x)\n",
    "    logp= -0.5*np.dot(np.dot(x, Cinv),x)+0.5*logdet-0.5*len(x)*np.log(2*np.pi)\n",
    "    return np.squeeze(logp)"
   ]
  },
  {
   "cell_type": "code",
   "execution_count": 60,
   "metadata": {},
   "outputs": [
    {
     "data": {
      "text/plain": [
       "426.4627767277797"
      ]
     },
     "execution_count": 60,
     "metadata": {},
     "output_type": "execute_result"
    }
   ],
   "source": [
    "# check if output makes sense\n",
    "-likelihood(data,true_params)"
   ]
  },
  {
   "cell_type": "code",
   "execution_count": 61,
   "metadata": {},
   "outputs": [],
   "source": [
    "#-logpost(data, true_params)"
   ]
  },
  {
   "cell_type": "markdown",
   "metadata": {},
   "source": [
    "### posterior"
   ]
  },
  {
   "cell_type": "markdown",
   "metadata": {},
   "source": [
    "    posterior    = prior*likelihood\n",
    "    logposterior = loglikelihood+logprior"
   ]
  },
  {
   "cell_type": "markdown",
   "metadata": {},
   "source": [
    "    Task: add a Gaussian prior on the parameters. This prior shouls be centered around the fiducial parameter \n",
    "    values, for now let's assume the parameters are uncorrelated, and the sigma is 10% of the parameter value\n",
    "    construct the posterior"
   ]
  },
  {
   "cell_type": "code",
   "execution_count": 62,
   "metadata": {},
   "outputs": [
    {
     "name": "stdout",
     "output_type": "stream",
     "text": [
      "[0.1 0.3 2.1]\n"
     ]
    }
   ],
   "source": [
    "print(fid_params)"
   ]
  },
  {
   "cell_type": "code",
   "execution_count": 63,
   "metadata": {},
   "outputs": [],
   "source": [
    "def logprior(params, mu):\n",
    "    \n",
    "    #parameters:\n",
    "    a, b, c = params\n",
    "    \n",
    "    #mean value, fiducial parameters\n",
    "    a_mu, b_mu, c_mu = mu\n",
    "    \n",
    "    #sigma 10% of paramter value:\n",
    "    sigma_a = 0.1*a\n",
    "    sigma_b = 0.1*b\n",
    "    sigma_c = 0.1*c\n",
    "\n",
    "    #prior is gaussian \n",
    "    a_prior = np.log(1.0/(np.sqrt(2*np.pi)*sigma_a))-0.5*(a-a_mu)**2/sigma_a**2\n",
    "    b_prior = np.log(1.0/(np.sqrt(2*np.pi)*sigma_b))-0.5*(b-b_mu)**2/sigma_b**2\n",
    "    c_prior = np.log(1.0/(np.sqrt(2*np.pi)*sigma_c))-0.5*(c-c_mu)**2/sigma_c**2\n",
    "    \n",
    "    prior_dist = a_prior + b_prior + c_prior\n",
    "    \n",
    "    #return np.array([a_prior, b_prior, c_prior])\n",
    "    return np.array(prior_dist)"
   ]
  },
  {
   "cell_type": "code",
   "execution_count": 116,
   "metadata": {},
   "outputs": [
    {
     "data": {
      "text/plain": [
       "array(6.91556023)"
      ]
     },
     "execution_count": 116,
     "metadata": {},
     "output_type": "execute_result"
    }
   ],
   "source": [
    "logprior(fid_params, fid_params)"
   ]
  },
  {
   "cell_type": "code",
   "execution_count": 64,
   "metadata": {},
   "outputs": [],
   "source": [
    "def logpost(data, params):\n",
    "    mu = fid_params\n",
    "    logpost = logprior(params,mu) + likelihood(data, params)\n",
    "    return np.squeeze(logpost)"
   ]
  },
  {
   "cell_type": "code",
   "execution_count": 65,
   "metadata": {},
   "outputs": [],
   "source": [
    "#logpost = logprior(x,fid_params) + likelihood(data, x)\n",
    "#neglogpost = lambda x: -likelihood(data, x)\n",
    "neglogpost = lambda x: -logpost(data, x)"
   ]
  },
  {
   "cell_type": "markdown",
   "metadata": {},
   "source": [
    "### derivatives"
   ]
  },
  {
   "cell_type": "code",
   "execution_count": 66,
   "metadata": {},
   "outputs": [
    {
     "name": "stdout",
     "output_type": "stream",
     "text": [
      "Requirement already satisfied: numdifftools in /Users/listerchenzhile/miniconda3/lib/python3.7/site-packages (0.9.39)\n",
      "Note: you may need to restart the kernel to use updated packages.\n"
     ]
    }
   ],
   "source": [
    "pip install numdifftools"
   ]
  },
  {
   "cell_type": "code",
   "execution_count": 67,
   "metadata": {
    "colab": {},
    "colab_type": "code",
    "id": "DaxVztXG4RSh"
   },
   "outputs": [],
   "source": [
    "import numdifftools as nd"
   ]
  },
  {
   "cell_type": "code",
   "execution_count": 68,
   "metadata": {
    "colab": {},
    "colab_type": "code",
    "id": "DMG74zlB4Zjg"
   },
   "outputs": [],
   "source": [
    "# gradient\n",
    "grad = nd.Gradient(neglogpost)"
   ]
  },
  {
   "cell_type": "code",
   "execution_count": 69,
   "metadata": {
    "colab": {},
    "colab_type": "code",
    "id": "GS2RSTEq4d0s"
   },
   "outputs": [],
   "source": [
    "# hessian\n",
    "hess = nd.Hessian(neglogpost)"
   ]
  },
  {
   "cell_type": "code",
   "execution_count": 70,
   "metadata": {
    "colab": {},
    "colab_type": "code",
    "id": "yNb8BGyfy_j_"
   },
   "outputs": [],
   "source": [
    "# derivative by hand\n",
    "def derivative(params):\n",
    "    # have to choose delta really small here\n",
    "    delta_params=1e-5*fid_params\n",
    "    deriv = np.zeros(len(params))\n",
    "    for ii in range(len(params)):\n",
    "        deltas = np.zeros(len(params))\n",
    "        deltas[ii]+=delta_params[ii]\n",
    "        deriv[ii] = (neglogpost(params+deltas)-neglogpost(params-deltas))/(2*delta_params[ii])\n",
    "    return deriv"
   ]
  },
  {
   "cell_type": "code",
   "execution_count": 71,
   "metadata": {
    "colab": {
     "base_uri": "https://localhost:8080/",
     "height": 53
    },
    "colab_type": "code",
    "id": "bSkQ-yPv19tD",
    "outputId": "6c9d86fc-5ac2-44f8-b2c0-8675923daf18"
   },
   "outputs": [
    {
     "name": "stdout",
     "output_type": "stream",
     "text": [
      "[133.94145883   6.32811104   4.09991083]\n",
      "[133.94145878   6.32811101   4.09991083]\n"
     ]
    }
   ],
   "source": [
    "## numerical differences! (points towards nasty likleihood surface)\n",
    "with warnings.catch_warnings(record=True):\n",
    "    print(grad(true_params))\n",
    "    print(derivative(true_params))"
   ]
  },
  {
   "cell_type": "markdown",
   "metadata": {},
   "source": [
    "### find minima"
   ]
  },
  {
   "cell_type": "markdown",
   "metadata": {},
   "source": [
    "    Q: you can try different minimizers here. Do they all find the same minima?Which ones work and which ones fail?\n",
    "    A: Tried CG, Nelder-Mead, Powell all work and find same minimas"
   ]
  },
  {
   "cell_type": "markdown",
   "metadata": {},
   "source": [
    "#### using Melder-mead, if Hessian is defined:"
   ]
  },
  {
   "cell_type": "code",
   "execution_count": 72,
   "metadata": {},
   "outputs": [
    {
     "name": "stdout",
     "output_type": "stream",
     "text": [
      "theta_ini = [0.13650981 0.38224713 1.89205573]\n",
      "theta_ini = [0.11259127 0.29858673 2.15882889]\n",
      "theta_ini = [0.09794603 0.2409084  1.97743055]\n",
      "theta_ini = [0.19463059 0.36246776 2.3289006 ]\n",
      "theta_ini = [0.11993826 0.27025213 2.04071353]\n",
      "theta_ini = [0.04936934 0.26312745 1.75631778]\n",
      "theta_ini = [0.11304937 0.34356988 2.19780579]\n",
      "theta_ini = [0.09810251 0.40033578 1.95672212]\n",
      "theta_ini = [0.12438057 0.32456134 2.05019285]\n",
      "theta_ini = [0.02970517 0.49746606 2.32334423]\n",
      "theta_ini = [0.05700428 0.31153311 2.5175379 ]\n",
      "theta_ini = [0.08162417 0.14845984 1.81285992]\n",
      "theta_ini = [0.0838364  0.36310318 2.07689283]\n",
      "[0.09901951 0.29705854 2.07940968]\n",
      "theta_ini = [0.05613488 0.22885344 2.14417034]\n",
      "theta_ini = [0.19129599 0.41171472 2.05571149]\n",
      "theta_ini = [0.15928995 0.47412466 2.55272569]\n",
      "theta_ini = [0.0900042  0.24344794 2.22444122]\n",
      "[0.09901951 0.29705854 2.07940979]\n",
      "theta_ini = [0.14559111 0.33097149 2.04510437]\n",
      "theta_ini = [-0.00812841  0.34553387  2.05336304]\n",
      "theta_ini = [0.2545767  0.33429462 1.6989651 ]\n"
     ]
    },
    {
     "data": {
      "text/plain": [
       "array([[0.09901951, 0.29705854, 2.07940968],\n",
       "       [0.09901951, 0.29705854, 2.07940979]])"
      ]
     },
     "execution_count": 72,
     "metadata": {},
     "output_type": "execute_result"
    }
   ],
   "source": [
    "import warnings\n",
    "from scipy.optimize import minimize\n",
    "\n",
    "log_posts = [] \n",
    "param_ests= []\n",
    "with warnings.catch_warnings(record=True):\n",
    "    for theta_ini in 0.15*np.sqrt(fid_params)*np.random.randn(20,3)+fid_params:\n",
    "        print('theta_ini =',theta_ini) #shape=(10,3)\n",
    "        for method in ['CG']:#,'Nelder-Mead','Powell','CG','BFGS','Newton-CG','L-BFGS-B','TNC','COBYLA','SLSQP','trust-constr','dogleg','trust-ncg','trust-exact','trust-krylov']:\n",
    "            res = minimize(neglogpost,theta_ini,jac=grad,hess=hess,method=method)\n",
    "            #hess = nd.Hessian(neglogpost)\n",
    "            h = hess(res['x'])\n",
    "            if res['success']:\n",
    "                if np.any(np.isnan(h)) == False: #add if hess is pos \n",
    "                    if np.linalg.slogdet(h) != '-inf': #if determinant is pos\n",
    "                            print(res['x'])\n",
    "                            log_posts.append(neglogpost(res['x']))\n",
    "                            param_ests.append(res['x']) \n",
    "                    \n",
    "param_ests= np.asarray(param_ests)\n",
    "param_ests"
   ]
  },
  {
   "cell_type": "code",
   "execution_count": 73,
   "metadata": {},
   "outputs": [
    {
     "name": "stdout",
     "output_type": "stream",
     "text": [
      "[1007.7352815293593, 1007.7352815293592]\n"
     ]
    },
    {
     "data": {
      "image/png": "[encoded data removed]",
      "text/plain": [
       "<Figure size 432x288 with 1 Axes>"
      ]
     },
     "metadata": {
      "needs_background": "light"
     },
     "output_type": "display_data"
    },
    {
     "data": {
      "image/png": "[encoded data removed]",
      "text/plain": [
       "<Figure size 432x288 with 1 Axes>"
      ]
     },
     "metadata": {
      "needs_background": "light"
     },
     "output_type": "display_data"
    },
    {
     "data": {
      "image/png": "[encoded data removed]",
      "text/plain": [
       "<Figure size 432x288 with 1 Axes>"
      ]
     },
     "metadata": {
      "needs_background": "light"
     },
     "output_type": "display_data"
    },
    {
     "data": {
      "image/png": "[encoded data removed]",
      "text/plain": [
       "<Figure size 432x288 with 1 Axes>"
      ]
     },
     "metadata": {
      "needs_background": "light"
     },
     "output_type": "display_data"
    }
   ],
   "source": [
    "# did they all land in the same minimum?\n",
    "print(log_posts)\n",
    "plt.plot(log_posts,ls='', marker='o')\n",
    "plt.show()\n",
    "\n",
    "for ii in range(param_ests.shape[-1]):\n",
    "    if ii==2:\n",
    "        plt.scatter(param_ests[:,ii],param_ests[:,0])\n",
    "    else:\n",
    "        plt.scatter(param_ests[:,ii],param_ests[:,ii+1])\n",
    "    plt.show()\n",
    "# parameters are pretty much all over the place"
   ]
  },
  {
   "cell_type": "code",
   "execution_count": 74,
   "metadata": {},
   "outputs": [
    {
     "name": "stdout",
     "output_type": "stream",
     "text": [
      "1007.7352815293592\n",
      "[0.09901951 0.29705854 2.07940979] [0.124  0.3028 2.3174] [0.1 0.3 2.1]\n"
     ]
    }
   ],
   "source": [
    "### let's look at the lowest minimum\n",
    "index       = np.argsort((log_posts))\n",
    "print(log_posts[index[0]])\n",
    "best_params = param_ests[index[0]]\n",
    "print(best_params, true_params, fid_params)"
   ]
  },
  {
   "cell_type": "code",
   "execution_count": 75,
   "metadata": {},
   "outputs": [
    {
     "data": {
      "text/plain": [
       "<matplotlib.legend.Legend at 0x7fa119aa5898>"
      ]
     },
     "execution_count": 75,
     "metadata": {},
     "output_type": "execute_result"
    },
    {
     "data": {
      "image/png": "[encoded data removed]",
      "text/plain": [
       "<Figure size 432x288 with 1 Axes>"
      ]
     },
     "metadata": {
      "needs_background": "light"
     },
     "output_type": "display_data"
    }
   ],
   "source": [
    "plt.plot(data, label='true data')\n",
    "plt.plot(fwdmodel(best_params), label = 'fitted model')\n",
    "plt.legend()"
   ]
  },
  {
   "cell_type": "code",
   "execution_count": 76,
   "metadata": {},
   "outputs": [
    {
     "data": {
      "text/plain": [
       "Text(0.5, 1.0, 'ture data vs model with param_ests')"
      ]
     },
     "execution_count": 76,
     "metadata": {},
     "output_type": "execute_result"
    },
    {
     "data": {
      "image/png": "[encoded data removed]",
      "text/plain": [
       "<Figure size 432x288 with 1 Axes>"
      ]
     },
     "metadata": {
      "needs_background": "light"
     },
     "output_type": "display_data"
    }
   ],
   "source": [
    "# let's look at all minima:\n",
    "plt.plot(data)\n",
    "for ii in range(len(param_ests)):\n",
    "    plt.plot(fwdmodel(param_ests[ii]))\n",
    "    plt.plot(data)\n",
    "plt.title('ture data vs model with param_ests')\n",
    "## all of them seem to be consistent with the data!"
   ]
  },
  {
   "cell_type": "code",
   "execution_count": null,
   "metadata": {},
   "outputs": [],
   "source": []
  },
  {
   "cell_type": "markdown",
   "metadata": {},
   "source": [
    "### without if hess is defined statement:"
   ]
  },
  {
   "cell_type": "markdown",
   "metadata": {},
   "source": [
    "##### method 1: CG"
   ]
  },
  {
   "cell_type": "code",
   "execution_count": 77,
   "metadata": {
    "colab": {
     "base_uri": "https://localhost:8080/",
     "height": 1000
    },
    "colab_type": "code",
    "id": "NaYQZ-0VGZZt",
    "outputId": "710fe96d-7180-4c31-fa9d-abae71c5908b"
   },
   "outputs": [
    {
     "name": "stdout",
     "output_type": "stream",
     "text": [
      "theta_ini = [-0.01642597  0.28248608  1.74777608]\n",
      "[-0.01642597  0.28248608  1.74777608]\n",
      "theta_ini = [0.0739426  0.44371425 2.05650721]\n",
      "[0.09901951 0.29705854 2.07940992]\n",
      "theta_ini = [0.1839194  0.32543382 2.31817153]\n",
      "[-1017.33565319  -182.48192989   -27.47721021]\n",
      "theta_ini = [0.10223173 0.31485019 2.21636893]\n",
      "[-896.20616713 -509.66241399  -76.56701601]\n",
      "theta_ini = [0.13811499 0.23755134 2.12684139]\n",
      "[-771.54672822  688.805703     -3.23794126]\n",
      "theta_ini = [0.14446015 0.30361718 2.24430743]\n",
      "[-1032.77068197   -47.66779338   -18.67053286]\n",
      "theta_ini = [0.07633869 0.40623506 2.31755479]\n",
      "[0.09901951 0.29705854 2.07940979]\n",
      "theta_ini = [0.10848595 0.47921876 1.80182396]\n",
      "[-852.61255901 -573.49132323  116.15659659]\n",
      "theta_ini = [0.13763631 0.39660129 1.869121  ]\n",
      "[-983.10546612 -317.23343652   46.55175987]\n",
      "theta_ini = [0.07723246 0.41055225 1.81868232]\n",
      "[0.09901951 0.29705854 2.07941014]\n"
     ]
    },
    {
     "data": {
      "text/plain": [
       "array([[-1.64259735e-02,  2.82486080e-01,  1.74777608e+00],\n",
       "       [ 9.90195138e-02,  2.97058542e-01,  2.07940992e+00],\n",
       "       [-1.01733565e+03, -1.82481930e+02, -2.74772102e+01],\n",
       "       [-8.96206167e+02, -5.09662414e+02, -7.65670160e+01],\n",
       "       [-7.71546728e+02,  6.88805703e+02, -3.23794126e+00],\n",
       "       [-1.03277068e+03, -4.76677934e+01, -1.86705329e+01],\n",
       "       [ 9.90195136e-02,  2.97058539e-01,  2.07940979e+00],\n",
       "       [-8.52612559e+02, -5.73491323e+02,  1.16156597e+02],\n",
       "       [-9.83105466e+02, -3.17233437e+02,  4.65517599e+01],\n",
       "       [ 9.90195136e-02,  2.97058541e-01,  2.07941014e+00]])"
      ]
     },
     "execution_count": 77,
     "metadata": {},
     "output_type": "execute_result"
    }
   ],
   "source": [
    "## you can try different minimizers here. Do they all find the same minima? Which ones work and which ones fail?\n",
    "## what happens is the fiducial parameters are far from the truth?\n",
    "\n",
    "import warnings\n",
    "from scipy.optimize import minimize\n",
    "\n",
    "log_posts = [] \n",
    "param_ests= []\n",
    "with warnings.catch_warnings(record=True):\n",
    "    for theta_ini in 0.15*np.sqrt(fid_params)*np.random.randn(10,3)+fid_params:\n",
    "        print('theta_ini =',theta_ini) #shape=(10,3)\n",
    "        for method in ['CG']:#,'Nelder-Mead','Powell','CG','BFGS','Newton-CG','L-BFGS-B','TNC','COBYLA','SLSQP','trust-constr','dogleg','trust-ncg','trust-exact','trust-krylov']:\n",
    "            res = minimize(neglogpost,theta_ini,jac=grad,hess=hess,method=method)\n",
    "            if res['success']:\n",
    "                print(res['x'])\n",
    "                log_posts.append(neglogpost(res['x']))\n",
    "                param_ests.append(res['x'])\n",
    "param_ests= np.asarray(param_ests)\n",
    "param_ests"
   ]
  },
  {
   "cell_type": "code",
   "execution_count": 78,
   "metadata": {
    "scrolled": false
   },
   "outputs": [
    {
     "name": "stdout",
     "output_type": "stream",
     "text": [
      "[nan, 1007.7352815293594, nan, nan, nan, nan, 1007.7352815293592, nan, nan, 1007.7352815293607]\n"
     ]
    },
    {
     "data": {
      "image/png": "[encoded data removed]",
      "text/plain": [
       "<Figure size 432x288 with 1 Axes>"
      ]
     },
     "metadata": {
      "needs_background": "light"
     },
     "output_type": "display_data"
    },
    {
     "data": {
      "image/png": "[encoded data removed]",
      "text/plain": [
       "<Figure size 432x288 with 1 Axes>"
      ]
     },
     "metadata": {
      "needs_background": "light"
     },
     "output_type": "display_data"
    },
    {
     "data": {
      "image/png": "[encoded data removed]",
      "text/plain": [
       "<Figure size 432x288 with 1 Axes>"
      ]
     },
     "metadata": {
      "needs_background": "light"
     },
     "output_type": "display_data"
    },
    {
     "data": {
      "image/png": "[encoded data removed]",
      "text/plain": [
       "<Figure size 432x288 with 1 Axes>"
      ]
     },
     "metadata": {
      "needs_background": "light"
     },
     "output_type": "display_data"
    }
   ],
   "source": [
    "# did they all land in the same minimum?\n",
    "print(log_posts)\n",
    "plt.plot(log_posts,ls='', marker='o')\n",
    "plt.show()\n",
    "\n",
    "for ii in range(param_ests.shape[-1]):\n",
    "    if ii==2:\n",
    "        plt.scatter(param_ests[:,ii],param_ests[:,0])\n",
    "    else:\n",
    "        plt.scatter(param_ests[:,ii],param_ests[:,ii+1])\n",
    "    plt.show()\n",
    "# parameters are pretty much all over the place"
   ]
  },
  {
   "cell_type": "code",
   "execution_count": 79,
   "metadata": {
    "colab": {},
    "colab_type": "code",
    "id": "p4rAUaQo-5b7"
   },
   "outputs": [
    {
     "name": "stdout",
     "output_type": "stream",
     "text": [
      "1007.7352815293592\n",
      "[0.09901951 0.29705854 2.07940979] [0.124  0.3028 2.3174] [0.1 0.3 2.1]\n"
     ]
    }
   ],
   "source": [
    "### let's look at the lowest minimum\n",
    "index       = np.argsort((log_posts))\n",
    "print(log_posts[index[0]])\n",
    "best_params = param_ests[index[0]]\n",
    "print(best_params, true_params, fid_params)"
   ]
  },
  {
   "cell_type": "code",
   "execution_count": 80,
   "metadata": {
    "colab": {
     "base_uri": "https://localhost:8080/",
     "height": 283
    },
    "colab_type": "code",
    "id": "rjcmsnQ54sVm",
    "outputId": "0d7d0530-0bee-4e78-e470-4b1ed7573d26"
   },
   "outputs": [
    {
     "data": {
      "text/plain": [
       "<matplotlib.legend.Legend at 0x7fa11a8607b8>"
      ]
     },
     "execution_count": 80,
     "metadata": {},
     "output_type": "execute_result"
    },
    {
     "data": {
      "image/png": "[encoded data removed]",
      "text/plain": [
       "<Figure size 432x288 with 1 Axes>"
      ]
     },
     "metadata": {
      "needs_background": "light"
     },
     "output_type": "display_data"
    }
   ],
   "source": [
    "plt.plot(data, label='true data')\n",
    "plt.plot(fwdmodel(best_params), label = 'fitted model')\n",
    "plt.legend()"
   ]
  },
  {
   "cell_type": "code",
   "execution_count": 81,
   "metadata": {},
   "outputs": [
    {
     "name": "stderr",
     "output_type": "stream",
     "text": [
      "No handles with labels found to put in legend.\n"
     ]
    },
    {
     "data": {
      "text/plain": [
       "<matplotlib.legend.Legend at 0x7fa12b7c0ba8>"
      ]
     },
     "execution_count": 81,
     "metadata": {},
     "output_type": "execute_result"
    },
    {
     "data": {
      "image/png": "[encoded data removed]",
      "text/plain": [
       "<Figure size 432x288 with 1 Axes>"
      ]
     },
     "metadata": {
      "needs_background": "light"
     },
     "output_type": "display_data"
    }
   ],
   "source": [
    "# let's look at all minima:\n",
    "plt.plot(data)\n",
    "for ii in range(len(param_ests)):\n",
    "    plt.plot(fwdmodel(param_ests[ii]))\n",
    "    plt.plot(data)\n",
    "plt.title('ture data vs model with param_ests')\n",
    "plt.legend()\n",
    "\n",
    "## all of them seem to be consistent with the data!"
   ]
  },
  {
   "cell_type": "markdown",
   "metadata": {},
   "source": [
    "##### method 2 = 'Nelder_mead'"
   ]
  },
  {
   "cell_type": "markdown",
   "metadata": {},
   "source": [
    "    fastest!"
   ]
  },
  {
   "cell_type": "code",
   "execution_count": 82,
   "metadata": {},
   "outputs": [
    {
     "name": "stdout",
     "output_type": "stream",
     "text": [
      "theta_ini = [0.09860043 0.22069849 2.437426  ]\n",
      "theta_ini = [0.13471536 0.18344863 1.92805998]\n",
      "theta_ini = [0.0537257  0.27476135 2.1652926 ]\n",
      "theta_ini = [0.11526455 0.33021684 2.01021831]\n",
      "theta_ini = [0.08124798 0.20997067 1.71619557]\n",
      "theta_ini = [0.10572275 0.30710786 1.92428577]\n",
      "theta_ini = [0.13542788 0.26321627 2.07278412]\n",
      "theta_ini = [0.15473554 0.23642293 1.94916365]\n",
      "theta_ini = [0.11031917 0.13156273 1.90000811]\n",
      "theta_ini = [0.08360361 0.42778174 2.14957962]\n"
     ]
    },
    {
     "data": {
      "text/plain": [
       "array([[0.09902103, 0.29705804, 2.07941647],\n",
       "       [0.09902125, 0.29704382, 2.07938515],\n",
       "       [0.09901869, 0.29705727, 2.0794574 ],\n",
       "       [0.09902029, 0.29706008, 2.07936584],\n",
       "       [0.09902028, 0.297059  , 2.07938289],\n",
       "       [0.099023  , 0.29706607, 2.07941545],\n",
       "       [0.09902276, 0.2970567 , 2.07940804],\n",
       "       [0.09901786, 0.29706681, 2.07945843],\n",
       "       [0.09902137, 0.29705536, 2.07941277],\n",
       "       [0.09901891, 0.29704665, 2.07938091]])"
      ]
     },
     "execution_count": 82,
     "metadata": {},
     "output_type": "execute_result"
    }
   ],
   "source": [
    "import warnings\n",
    "from scipy.optimize import minimize\n",
    "\n",
    "log_posts2 = [] \n",
    "param_ests2= []\n",
    "with warnings.catch_warnings(record=True):\n",
    "    for theta_ini in 0.15*np.sqrt(fid_params)*np.random.randn(10,3)+fid_params:\n",
    "        print('theta_ini =',theta_ini)\n",
    "        for method in ['Nelder-Mead']:#,'Nelder-Mead','Powell','CG','BFGS','Newton-CG','L-BFGS-B','TNC','COBYLA','SLSQP','trust-constr','dogleg','trust-ncg','trust-exact','trust-krylov']:\n",
    "            res = minimize(neglogpost,theta_ini,jac=grad,hess=hess,method=method)\n",
    "            if res['success']:\n",
    "                log_posts2.append(neglogpost(res['x']))\n",
    "                param_ests2.append(res['x'])\n",
    "param_ests2= np.asarray(param_ests2)\n",
    "param_ests2"
   ]
  },
  {
   "cell_type": "code",
   "execution_count": 83,
   "metadata": {},
   "outputs": [
    {
     "name": "stdout",
     "output_type": "stream",
     "text": [
      "[1007.7352815421281, 1007.7352816789227, 1007.7352815608429, 1007.7352815568917, 1007.7352815412052, 1007.7352816264676, 1007.7352815866426, 1007.7352816118305, 1007.7352815535637, 1007.7352816237011]\n"
     ]
    },
    {
     "data": {
      "image/png": "[encoded data removed]",
      "text/plain": [
       "<Figure size 432x288 with 1 Axes>"
      ]
     },
     "metadata": {
      "needs_background": "light"
     },
     "output_type": "display_data"
    },
    {
     "data": {
      "image/png": "[encoded data removed]",
      "text/plain": [
       "<Figure size 432x288 with 1 Axes>"
      ]
     },
     "metadata": {
      "needs_background": "light"
     },
     "output_type": "display_data"
    },
    {
     "data": {
      "image/png": "[encoded data removed]",
      "text/plain": [
       "<Figure size 432x288 with 1 Axes>"
      ]
     },
     "metadata": {
      "needs_background": "light"
     },
     "output_type": "display_data"
    },
    {
     "data": {
      "image/png": "[encoded data removed]",
      "text/plain": [
       "<Figure size 432x288 with 1 Axes>"
      ]
     },
     "metadata": {
      "needs_background": "light"
     },
     "output_type": "display_data"
    }
   ],
   "source": [
    "# did they all land in the same minimum?\n",
    "print(log_posts2)\n",
    "plt.plot(log_posts2,ls='', marker='o')\n",
    "plt.show()\n",
    "\n",
    "for ii in range(param_ests2.shape[-1]):\n",
    "    if ii==2:\n",
    "        plt.scatter(param_ests2[:,ii],param_ests2[:,0])\n",
    "    else:\n",
    "        plt.scatter(param_ests2[:,ii],param_ests2[:,ii+1])\n",
    "    plt.show()\n",
    "# parameters are pretty much all over the place"
   ]
  },
  {
   "cell_type": "code",
   "execution_count": 84,
   "metadata": {},
   "outputs": [
    {
     "name": "stdout",
     "output_type": "stream",
     "text": [
      "1007.7352815412052\n",
      "[0.09902028 0.297059   2.07938289] [0.124  0.3028 2.3174] [0.1 0.3 2.1]\n"
     ]
    }
   ],
   "source": [
    "### let's look at the lowest minimum\n",
    "index       = np.argsort((log_posts2))\n",
    "print(log_posts2[index[0]])\n",
    "best_params2 = param_ests2[index[0]]\n",
    "print(best_params2, true_params, fid_params)"
   ]
  },
  {
   "cell_type": "code",
   "execution_count": 85,
   "metadata": {},
   "outputs": [
    {
     "data": {
      "text/plain": [
       "<matplotlib.legend.Legend at 0x7fa119a9a9b0>"
      ]
     },
     "execution_count": 85,
     "metadata": {},
     "output_type": "execute_result"
    },
    {
     "data": {
      "image/png": "[encoded data removed]",
      "text/plain": [
       "<Figure size 432x288 with 1 Axes>"
      ]
     },
     "metadata": {
      "needs_background": "light"
     },
     "output_type": "display_data"
    }
   ],
   "source": [
    "plt.plot(data, label='true data')\n",
    "plt.plot(fwdmodel(best_params2), label = 'fitted model')\n",
    "plt.legend()"
   ]
  },
  {
   "cell_type": "code",
   "execution_count": 86,
   "metadata": {},
   "outputs": [
    {
     "name": "stderr",
     "output_type": "stream",
     "text": [
      "No handles with labels found to put in legend.\n"
     ]
    },
    {
     "data": {
      "text/plain": [
       "<matplotlib.legend.Legend at 0x7fa102680f28>"
      ]
     },
     "execution_count": 86,
     "metadata": {},
     "output_type": "execute_result"
    },
    {
     "data": {
      "image/png": "[encoded data removed]",
      "text/plain": [
       "<Figure size 432x288 with 1 Axes>"
      ]
     },
     "metadata": {
      "needs_background": "light"
     },
     "output_type": "display_data"
    }
   ],
   "source": [
    "# let's look at all minima:\n",
    "plt.plot(data)\n",
    "for ii in range(len(param_ests2)):\n",
    "    plt.plot(fwdmodel(param_ests2[ii]))\n",
    "    plt.plot(data)\n",
    "plt.title('ture data vs model with param_ests')\n",
    "plt.legend()\n",
    "## all of them seem to be consistent with the data!"
   ]
  },
  {
   "cell_type": "markdown",
   "metadata": {},
   "source": [
    "##### method 3 ='Powell'"
   ]
  },
  {
   "cell_type": "code",
   "execution_count": 87,
   "metadata": {},
   "outputs": [
    {
     "name": "stdout",
     "output_type": "stream",
     "text": [
      "theta_ini = [0.17985462 0.40262303 1.91237707]\n",
      "theta_ini = [0.09202434 0.33256837 2.21890167]\n",
      "theta_ini = [0.10941496 0.22372409 1.95485868]\n",
      "theta_ini = [0.10729055 0.24589346 2.07759824]\n",
      "theta_ini = [0.07519793 0.20604173 2.0260709 ]\n",
      "theta_ini = [0.02875137 0.3590221  2.00277584]\n",
      "theta_ini = [0.08980848 0.26035004 2.17081188]\n",
      "theta_ini = [0.13217986 0.41946322 2.1336605 ]\n",
      "theta_ini = [0.0863988  0.20326248 1.75636163]\n",
      "theta_ini = [0.05102694 0.26043863 1.77586467]\n"
     ]
    },
    {
     "data": {
      "text/plain": [
       "array([], dtype=float64)"
      ]
     },
     "execution_count": 87,
     "metadata": {},
     "output_type": "execute_result"
    }
   ],
   "source": [
    "import warnings\n",
    "from scipy.optimize import minimize\n",
    "\n",
    "log_posts3 = [] \n",
    "param_ests3= []\n",
    "with warnings.catch_warnings(record=True):\n",
    "    for theta_ini in 0.15*np.sqrt(fid_params)*np.random.randn(10,3)+fid_params:\n",
    "        print('theta_ini =',theta_ini)\n",
    "        for method in ['Powell']:#,'Nelder-Mead','Powell','CG','BFGS','Newton-CG','L-BFGS-B','TNC','COBYLA','SLSQP','trust-constr','dogleg','trust-ncg','trust-exact','trust-krylov']:\n",
    "            res = minimize(neglogpost,theta_ini,jac=grad,hess=hess,method=method)\n",
    "            if res['success']:\n",
    "                log_posts3.append(neglogpost(res['x']))\n",
    "                param_ests3.append(res['x'])\n",
    "param_ests3= np.asarray(param_ests3)\n",
    "param_ests3"
   ]
  },
  {
   "cell_type": "code",
   "execution_count": 88,
   "metadata": {},
   "outputs": [
    {
     "name": "stdout",
     "output_type": "stream",
     "text": [
      "[]\n"
     ]
    },
    {
     "data": {
      "image/png": "[encoded data removed]",
      "text/plain": [
       "<Figure size 432x288 with 1 Axes>"
      ]
     },
     "metadata": {
      "needs_background": "light"
     },
     "output_type": "display_data"
    }
   ],
   "source": [
    "# did they all land in the same minimum?\n",
    "print(log_posts3)\n",
    "plt.plot(log_posts3,ls='', marker='o')\n",
    "plt.show()\n",
    "\n",
    "for ii in range(param_ests3.shape[-1]):\n",
    "    if ii==2:\n",
    "        plt.scatter(param_ests3[:,ii],param_ests3[:,0])\n",
    "    else:\n",
    "        plt.scatter(param_ests3[:,ii],param_ests3[:,ii+1])\n",
    "    plt.show()\n",
    "# parameters are pretty much all over the place"
   ]
  },
  {
   "cell_type": "code",
   "execution_count": 89,
   "metadata": {},
   "outputs": [
    {
     "ename": "IndexError",
     "evalue": "index 0 is out of bounds for axis 0 with size 0",
     "output_type": "error",
     "traceback": [
      "\u001b[0;31m---------------------------------------------------------------------------\u001b[0m",
      "\u001b[0;31mIndexError\u001b[0m                                Traceback (most recent call last)",
      "\u001b[0;32m<ipython-input-89-d7d84c21829c>\u001b[0m in \u001b[0;36m<module>\u001b[0;34m\u001b[0m\n\u001b[1;32m      1\u001b[0m \u001b[0;31m### let's look at the lowest minimum\u001b[0m\u001b[0;34m\u001b[0m\u001b[0;34m\u001b[0m\u001b[0;34m\u001b[0m\u001b[0m\n\u001b[1;32m      2\u001b[0m \u001b[0mindex\u001b[0m       \u001b[0;34m=\u001b[0m \u001b[0mnp\u001b[0m\u001b[0;34m.\u001b[0m\u001b[0margsort\u001b[0m\u001b[0;34m(\u001b[0m\u001b[0;34m(\u001b[0m\u001b[0mlog_posts3\u001b[0m\u001b[0;34m)\u001b[0m\u001b[0;34m)\u001b[0m\u001b[0;34m\u001b[0m\u001b[0;34m\u001b[0m\u001b[0m\n\u001b[0;32m----> 3\u001b[0;31m \u001b[0mprint\u001b[0m\u001b[0;34m(\u001b[0m\u001b[0mlog_posts3\u001b[0m\u001b[0;34m[\u001b[0m\u001b[0mindex\u001b[0m\u001b[0;34m[\u001b[0m\u001b[0;36m0\u001b[0m\u001b[0;34m]\u001b[0m\u001b[0;34m]\u001b[0m\u001b[0;34m)\u001b[0m\u001b[0;34m\u001b[0m\u001b[0;34m\u001b[0m\u001b[0m\n\u001b[0m\u001b[1;32m      4\u001b[0m \u001b[0mbest_params3\u001b[0m \u001b[0;34m=\u001b[0m \u001b[0mparam_ests3\u001b[0m\u001b[0;34m[\u001b[0m\u001b[0mindex\u001b[0m\u001b[0;34m[\u001b[0m\u001b[0;36m0\u001b[0m\u001b[0;34m]\u001b[0m\u001b[0;34m]\u001b[0m\u001b[0;34m\u001b[0m\u001b[0;34m\u001b[0m\u001b[0m\n\u001b[1;32m      5\u001b[0m \u001b[0mprint\u001b[0m\u001b[0;34m(\u001b[0m\u001b[0mbest_params3\u001b[0m\u001b[0;34m,\u001b[0m \u001b[0mtrue_params\u001b[0m\u001b[0;34m,\u001b[0m \u001b[0mfid_params\u001b[0m\u001b[0;34m)\u001b[0m\u001b[0;34m\u001b[0m\u001b[0;34m\u001b[0m\u001b[0m\n",
      "\u001b[0;31mIndexError\u001b[0m: index 0 is out of bounds for axis 0 with size 0"
     ]
    }
   ],
   "source": [
    "### let's look at the lowest minimum\n",
    "index       = np.argsort((log_posts3))\n",
    "print(log_posts3[index[0]])\n",
    "best_params3 = param_ests3[index[0]]\n",
    "print(best_params3, true_params, fid_params)"
   ]
  },
  {
   "cell_type": "code",
   "execution_count": null,
   "metadata": {},
   "outputs": [],
   "source": [
    "plt.plot(data, label='true data')\n",
    "plt.plot(fwdmodel(best_params3),label='fitted model')\n",
    "plt.legend()"
   ]
  },
  {
   "cell_type": "code",
   "execution_count": null,
   "metadata": {},
   "outputs": [],
   "source": [
    "# let's look at all minima:\n",
    "plt.plot(data)\n",
    "for ii in range(len(param_ests3)):\n",
    "    plt.plot(fwdmodel(param_ests3[ii]))\n",
    "    plt.plot(data)\n",
    "plt.title('ture data vs model with param_ests')\n",
    "plt.legend()\n",
    "## all of them seem to be consistent with the data!"
   ]
  },
  {
   "cell_type": "markdown",
   "metadata": {
    "colab": {},
    "colab_type": "code",
    "id": "kFHlosvd8Gtg"
   },
   "source": [
    "    Q:what do we learn from this about the posterior?\n",
    "    A:We use gaussian prior bc most of the time we can fit a gaussian distribution to a distribution. Easy to quantify given gaussian distribution characteristics. The differet posterior can give us a slightly different results given it's closeness to true parameters. "
   ]
  },
  {
   "cell_type": "markdown",
   "metadata": {},
   "source": [
    "### With fid_params far from true params:"
   ]
  },
  {
   "cell_type": "markdown",
   "metadata": {},
   "source": [
    "    Q: what happens is the fiducial parameters are far from the truth?\n",
    "    A: the estimates is off and fwdmodel does not match up with real data"
   ]
  },
  {
   "cell_type": "code",
   "execution_count": 90,
   "metadata": {},
   "outputs": [
    {
     "name": "stdout",
     "output_type": "stream",
     "text": [
      "[1, 1, 1]\n"
     ]
    }
   ],
   "source": [
    "print(fid_params_test)"
   ]
  },
  {
   "cell_type": "code",
   "execution_count": 91,
   "metadata": {},
   "outputs": [
    {
     "data": {
      "text/plain": [
       "<function matplotlib.pyplot.plot(*args, scalex=True, scaley=True, data=None, **kwargs)>"
      ]
     },
     "execution_count": 91,
     "metadata": {},
     "output_type": "execute_result"
    },
    {
     "data": {
      "image/png": "[encoded data removed]",
      "text/plain": [
       "<Figure size 432x288 with 1 Axes>"
      ]
     },
     "metadata": {
      "needs_background": "light"
     },
     "output_type": "display_data"
    }
   ],
   "source": [
    "fwdmodel([1,1,1])\n",
    "plt.plot(fwdmodel([1,1,1]))\n",
    "plt.plot"
   ]
  },
  {
   "cell_type": "code",
   "execution_count": 92,
   "metadata": {},
   "outputs": [
    {
     "data": {
      "text/plain": [
       "array([  329.98024535,   499.10792783,   760.99576048,  1099.25112543,\n",
       "        1553.27935411,  2135.29609925,  2852.31550986,  3759.74148191,\n",
       "        4812.33669493,  6006.55466909,  7321.35295741,  8696.6778348 ,\n",
       "       10171.6982007 , 11642.62041213, 12910.68397738, 14236.90981181,\n",
       "       15226.1412519 , 16039.86134583, 16707.3088495 , 16992.76107034,\n",
       "       17079.21636749, 16924.43222565, 16497.75129698, 15796.33639762,\n",
       "       15045.11315934, 14065.33899879, 13062.47331403, 11953.92253038,\n",
       "       10843.71672282,  9834.07332105,  8773.67585241,  7797.2117397 ,\n",
       "        6894.35678609,  6050.13696565,  5276.05863514,  4632.80600496,\n",
       "        3989.0805108 ,  3449.14865962,  2995.12043094,  2574.35030199,\n",
       "        2226.87408948,  1907.29685163,  1643.35994174,  1434.03882121,\n",
       "        1228.73704449,  1057.0874208 ,   917.04087292,   795.98769478,\n",
       "         690.14497458,   601.32535754])"
      ]
     },
     "execution_count": 92,
     "metadata": {},
     "output_type": "execute_result"
    }
   ],
   "source": [
    "fwdmodel(fid_params)"
   ]
  },
  {
   "cell_type": "code",
   "execution_count": 93,
   "metadata": {},
   "outputs": [
    {
     "name": "stdout",
     "output_type": "stream",
     "text": [
      "theta_ini = [1.03960469 0.91978878 0.99212048]\n",
      "theta_ini = [1.21636072 0.89824913 1.0294357 ]\n",
      "theta_ini = [0.76890325 0.87458946 0.99238434]\n",
      "theta_ini = [1.06494491 1.00115613 0.76989421]\n",
      "theta_ini = [1.26997712 1.18774663 0.83202832]\n",
      "theta_ini = [0.80553715 1.02743372 0.96688417]\n",
      "theta_ini = [1.06763221 1.01059779 1.01747014]\n",
      "theta_ini = [0.87469028 0.99211135 0.8858384 ]\n",
      "theta_ini = [1.11931048 0.77519086 0.86260152]\n",
      "theta_ini = [1.00327717 0.61368212 1.1765615 ]\n"
     ]
    },
    {
     "data": {
      "text/plain": [
       "array([[-1346.87628537, -4018.77867984,   305.55457453],\n",
       "       [ -805.74900311, -3498.27834784,   137.24520305],\n",
       "       [-1799.29538031, -3119.90265914,   223.00002857],\n",
       "       [-3709.38439332, -9417.73864824,  4622.90208444],\n",
       "       [-3751.49595691, -9961.52035836,  4619.2491875 ],\n",
       "       [-2832.57264211, -4039.38968885,   507.92428257],\n",
       "       [-1564.92503041, -4166.46003882,   248.05811053],\n",
       "       [-3244.71923482, -5819.21182013,  1392.77889032],\n",
       "       [-1240.59713362, -5400.01775536,  1015.02266531],\n",
       "       [-1169.09502588,  2358.95420961,  1713.01105534]])"
      ]
     },
     "execution_count": 93,
     "metadata": {},
     "output_type": "execute_result"
    }
   ],
   "source": [
    "## you can try different minimizers here. Do they all find the same minima? Which ones work and which ones fail?\n",
    "## what happens is the fiducial parameters are far from the truth?\n",
    "\n",
    "import warnings\n",
    "from scipy.optimize import minimize\n",
    "\n",
    "log_posts4 = [] \n",
    "param_ests4= []\n",
    "with warnings.catch_warnings(record=True):\n",
    "    for theta_ini in 0.15*np.sqrt(fid_params_test)*np.random.randn(10,3)+fid_params_test:\n",
    "        print('theta_ini =',theta_ini) #shape=(10,3)\n",
    "        for method in ['CG']:#,'Nelder-Mead','Powell','CG','BFGS','Newton-CG','L-BFGS-B','TNC','COBYLA','SLSQP','trust-constr','dogleg','trust-ncg','trust-exact','trust-krylov']:\n",
    "            res = minimize(neglogpost,theta_ini,jac=grad,hess=hess,method=method)\n",
    "            if res['success']:\n",
    "                log_posts4.append(neglogpost(res['x']))\n",
    "                param_ests4.append(res['x'])\n",
    "param_ests4= np.asarray(param_ests4)\n",
    "param_ests4"
   ]
  },
  {
   "cell_type": "code",
   "execution_count": null,
   "metadata": {},
   "outputs": [],
   "source": []
  },
  {
   "cell_type": "code",
   "execution_count": 94,
   "metadata": {},
   "outputs": [
    {
     "name": "stdout",
     "output_type": "stream",
     "text": [
      "[nan, 1007.7352815293594, nan, nan, nan, nan, 1007.7352815293592, nan, nan, 1007.7352815293607]\n"
     ]
    },
    {
     "data": {
      "image/png": "[encoded data removed]",
      "text/plain": [
       "<Figure size 432x288 with 1 Axes>"
      ]
     },
     "metadata": {
      "needs_background": "light"
     },
     "output_type": "display_data"
    },
    {
     "data": {
      "image/png": "[encoded data removed]",
      "text/plain": [
       "<Figure size 432x288 with 1 Axes>"
      ]
     },
     "metadata": {
      "needs_background": "light"
     },
     "output_type": "display_data"
    },
    {
     "data": {
      "image/png": "[encoded data removed]",
      "text/plain": [
       "<Figure size 432x288 with 1 Axes>"
      ]
     },
     "metadata": {
      "needs_background": "light"
     },
     "output_type": "display_data"
    },
    {
     "data": {
      "image/png": "[encoded data removed]",
      "text/plain": [
       "<Figure size 432x288 with 1 Axes>"
      ]
     },
     "metadata": {
      "needs_background": "light"
     },
     "output_type": "display_data"
    }
   ],
   "source": [
    "# did they all land in the same minimum?\n",
    "print(log_posts)\n",
    "plt.plot(log_posts,ls='', marker='o')\n",
    "plt.show()\n",
    "\n",
    "for ii in range(param_ests.shape[-1]):\n",
    "    if ii==2:\n",
    "        plt.scatter(param_ests4[:,ii],param_ests4[:,0])\n",
    "    else:\n",
    "        plt.scatter(param_ests4[:,ii],param_ests4[:,ii+1])\n",
    "    plt.show()\n",
    "# parameters are pretty much all over the place"
   ]
  },
  {
   "cell_type": "code",
   "execution_count": 95,
   "metadata": {},
   "outputs": [
    {
     "name": "stdout",
     "output_type": "stream",
     "text": [
      "nan\n",
      "[-1346.87628537 -4018.77867984   305.55457453] [0.124  0.3028 2.3174] [0.1 0.3 2.1]\n"
     ]
    }
   ],
   "source": [
    "### let's look at the lowest minimum\n",
    "index       = np.argsort((log_posts4))\n",
    "print(log_posts4[index[0]])\n",
    "best_params4 = param_ests4[index[0]]\n",
    "print(best_params4, true_params, fid_params)"
   ]
  },
  {
   "cell_type": "code",
   "execution_count": 96,
   "metadata": {},
   "outputs": [
    {
     "data": {
      "text/plain": [
       "[<matplotlib.lines.Line2D at 0x7fa12d5246a0>]"
      ]
     },
     "execution_count": 96,
     "metadata": {},
     "output_type": "execute_result"
    },
    {
     "data": {
      "image/png": "[encoded data removed]",
      "text/plain": [
       "<Figure size 432x288 with 1 Axes>"
      ]
     },
     "metadata": {
      "needs_background": "light"
     },
     "output_type": "display_data"
    }
   ],
   "source": [
    "plt.plot(data)\n",
    "plt.plot(fwdmodel(best_params4))"
   ]
  },
  {
   "cell_type": "code",
   "execution_count": 97,
   "metadata": {},
   "outputs": [
    {
     "data": {
      "text/plain": [
       "Text(0.5, 1.0, 'ture data vs model with param_ests')"
      ]
     },
     "execution_count": 97,
     "metadata": {},
     "output_type": "execute_result"
    },
    {
     "data": {
      "image/png": "[encoded data removed]",
      "text/plain": [
       "<Figure size 432x288 with 1 Axes>"
      ]
     },
     "metadata": {
      "needs_background": "light"
     },
     "output_type": "display_data"
    }
   ],
   "source": [
    "# let's look at all minima:\n",
    "plt.plot(data)\n",
    "for ii in range(len(param_ests4)):\n",
    "    plt.plot(fwdmodel(param_ests4[ii]))\n",
    "    plt.plot(data)\n",
    "plt.title('ture data vs model with param_ests')\n",
    "## all of them seem to be consistent with the data!"
   ]
  },
  {
   "cell_type": "markdown",
   "metadata": {},
   "source": [
    "# Fisher Analysis"
   ]
  },
  {
   "cell_type": "markdown",
   "metadata": {},
   "source": [
    "first define the Gaussian function"
   ]
  },
  {
   "cell_type": "code",
   "execution_count": 98,
   "metadata": {},
   "outputs": [],
   "source": [
    "def get_Gaussian_1d(mu,Sigma):\n",
    "    if np.isscalar(Sigma):\n",
    "        Sigma = np.asarray([Sigma])\n",
    "        mu    = np.asarray([mu])\n",
    "    Sigma = Sigma[np.newaxis,:]\n",
    "    mu = mu[np.newaxis, :] \n",
    "    def Gaussian(x):\n",
    "        if len(mu.shape)<3:\n",
    "            x = x[:,np.newaxis]\n",
    "        else: \n",
    "            x = x[:,np.newaxis, np.newaxis]\n",
    "        return np.prod(1/np.sqrt((2.*np.pi))/Sigma*np.exp(-0.5*(x-mu)**2/Sigma**2),axis=0)    \n",
    "    return Gaussian\n",
    "\n",
    "# 1,100,100 + 20, 1, 1 -> 20, 100, 100\n",
    "# broadcasting rules\n",
    "\n",
    "#this function returns an Nd Gaussian\n",
    "def get_Gaussian_nd(mu,C):\n",
    "    Cinv = np.linalg.inv(C)\n",
    "    N    = mu.shape[-1]\n",
    "    def Gaussian(x):\n",
    "        x_ = x-mu\n",
    "        return 1./np.sqrt(np.linalg.det(C))/np.sqrt((2*np.pi)**N)*np.exp(-0.5*np.einsum('ij,jk,ik->i',x_,Cinv,x_))\n",
    "    return Gaussian"
   ]
  },
  {
   "cell_type": "code",
   "execution_count": 99,
   "metadata": {},
   "outputs": [],
   "source": [
    "def data_probability(params, data):\n",
    "    #parameters:\n",
    "    a, b, c = params\n",
    "    \n",
    "    #mean value, fiducial parameters\n",
    "    \n",
    "    fid_params = np.array([0.1,0.3, 2.1])\n",
    "    mu = fid_params\n",
    "    a_mu, b_mu, c_mu = mu\n",
    "    \n",
    "    #sigma 10% of paramter value:\n",
    "    sigma_a = 0.1*a\n",
    "    sigma_b = 0.1*b\n",
    "    sigma_c = 0.1*c\n",
    "    \n",
    "    prob_a = get_Gaussian_1d(a_mu, sigma_a)\n",
    "    prob_b = get_Gaussian_1d(b_mu, sigma_b)\n",
    "    prob_c = get_Gaussian_1d(c_mu, sigma_c)\n",
    "    \n",
    "    prob = prob_a(data)*prob_b(data)*prob_c(data)\n",
    "    \n",
    "    return prob"
   ]
  },
  {
   "cell_type": "code",
   "execution_count": 100,
   "metadata": {},
   "outputs": [],
   "source": [
    "#prob_a = get_Gaussian_1d(0.1, 0.1*a)\n",
    "#prob_a(data)"
   ]
  },
  {
   "cell_type": "code",
   "execution_count": 101,
   "metadata": {},
   "outputs": [],
   "source": [
    "#finite differencing\n",
    "#compeare the python package\n",
    "def finite_diff(params,func,h=1e-2):\n",
    "    result = np.zeros(len(params))\n",
    "    for ii in range(len(params)):\n",
    "        delta_params     = np.zeros_like(params)\n",
    "        delta_params[ii] = h\n",
    "        derivative       = (func(params+delta_params)-func(params-delta_params))/(2*h)\n",
    "        result[ii]       = derivative \n",
    "    return result\n",
    "#try lambda tool for the derivative"
   ]
  },
  {
   "cell_type": "code",
   "execution_count": 102,
   "metadata": {},
   "outputs": [],
   "source": [
    "from functools import partial"
   ]
  },
  {
   "cell_type": "code",
   "execution_count": 103,
   "metadata": {},
   "outputs": [
    {
     "data": {
      "text/plain": [
       "array([0.124 , 0.3028, 2.3174])"
      ]
     },
     "execution_count": 103,
     "metadata": {},
     "output_type": "execute_result"
    }
   ],
   "source": [
    "true_params"
   ]
  },
  {
   "cell_type": "code",
   "execution_count": 115,
   "metadata": {},
   "outputs": [
    {
     "name": "stdout",
     "output_type": "stream",
     "text": [
      "[0.]\n"
     ]
    }
   ],
   "source": [
    "p_of_params = partial(data_probability, data=data)\n",
    "deriv       = partial(finite_diff,func=p_of_params, h=1e-3)\n",
    "p_of_params_log = lambda x: -np.log(partial(data_probability, data=data)(x))\n",
    "print(p_of_params(fid_params))"
   ]
  },
  {
   "cell_type": "code",
   "execution_count": 105,
   "metadata": {},
   "outputs": [],
   "source": [
    "from scipy.optimize import fsolve, minimize"
   ]
  },
  {
   "cell_type": "code",
   "execution_count": 106,
   "metadata": {},
   "outputs": [
    {
     "name": "stdout",
     "output_type": "stream",
     "text": [
      "      fun: array([-0.])\n",
      " hess_inv: <3x3 LbfgsInvHessProduct with dtype=float64>\n",
      "      jac: array([-0., -0., -0.])\n",
      "  message: b'CONVERGENCE: NORM_OF_PROJECTED_GRADIENT_<=_PGTOL'\n",
      "     nfev: 1\n",
      "      nit: 0\n",
      "   status: 0\n",
      "  success: True\n",
      "        x: array([0.1, 0.3, 2. ])\n"
     ]
    }
   ],
   "source": [
    "params_init = [0.1, 0.3, 2.0]\n",
    "a, b, c = params_init\n",
    "result = minimize(lambda params: -p_of_params(params),params_init, jac=lambda params: -deriv(params), method='L-BFGS-B', options=dict(gtol=1e-40,ftol=1e-40))\n",
    "print(result)\n"
   ]
  },
  {
   "cell_type": "code",
   "execution_count": 107,
   "metadata": {},
   "outputs": [],
   "source": [
    "from mpl_toolkits import mplot3d"
   ]
  },
  {
   "cell_type": "code",
   "execution_count": 108,
   "metadata": {},
   "outputs": [
    {
     "name": "stdout",
     "output_type": "stream",
     "text": [
      "(array([0.1, 0.3, 2. ]), {'nfev': 5, 'fjac': array([[1., 0., 0.],\n",
      "       [0., 1., 0.],\n",
      "       [0., 0., 1.]]), 'r': array([-0.,  0.,  0., -0.,  0., -0.]), 'qtf': array([-0., -0., -0.]), 'fvec': array([-0., -0., -0.])}, 1, 'The solution converged.')\n",
      "[0.1 0.3 2. ]\n",
      "[0. 0. 0.]\n"
     ]
    }
   ],
   "source": [
    "# this solver tries to minimize the derivative, to find the maximum\n",
    "output= fsolve(lambda x: -deriv(x),params_init,full_output=True,maxfev=1000,xtol=1e-10)\n",
    "print(output)\n",
    "best_params= output[0]\n",
    "print(best_params)\n",
    "print(deriv(best_params))"
   ]
  },
  {
   "cell_type": "code",
   "execution_count": 109,
   "metadata": {},
   "outputs": [
    {
     "name": "stdout",
     "output_type": "stream",
     "text": [
      " final_simplex: (array([[0.1       , 0.3       , 2.        ],\n",
      "       [0.10000488, 0.3       , 2.        ],\n",
      "       [0.1       , 0.30001465, 2.        ],\n",
      "       [0.1       , 0.3       , 2.00009766]]), array([-0., -0., -0., -0.]))\n",
      "           fun: -0.0\n",
      "       message: 'Optimization terminated successfully.'\n",
      "          nfev: 54\n",
      "           nit: 11\n",
      "        status: 0\n",
      "       success: True\n",
      "             x: array([0.1, 0.3, 2. ])\n",
      "[0.1 0.3 2. ]\n",
      "[0. 0. 0.]\n"
     ]
    }
   ],
   "source": [
    "result = minimize(lambda params: -p_of_params(params),params_init, method='Nelder-Mead')\n",
    "print(result)\n",
    "best_params=result['x']\n",
    "\n",
    "print(best_params)\n",
    "print(deriv(best_params))"
   ]
  },
  {
   "cell_type": "code",
   "execution_count": 110,
   "metadata": {},
   "outputs": [
    {
     "name": "stdout",
     "output_type": "stream",
     "text": [
      "      fun: array([-0.])\n",
      " hess_inv: <3x3 LbfgsInvHessProduct with dtype=float64>\n",
      "      jac: array([0., 0., 0.])\n",
      "  message: b'CONVERGENCE: NORM_OF_PROJECTED_GRADIENT_<=_PGTOL'\n",
      "     nfev: 4\n",
      "      nit: 0\n",
      "   status: 0\n",
      "  success: True\n",
      "        x: array([0.1, 0.3, 2. ])\n",
      "[0.1 0.3 2. ]\n",
      "[0. 0. 0.]\n"
     ]
    }
   ],
   "source": [
    "result = minimize(lambda params: -p_of_params(params),params_init, method='L-BFGS-B')\n",
    "print(result)\n",
    "best_params=result['x']\n",
    "\n",
    "print(best_params)\n",
    "print(deriv(best_params))"
   ]
  },
  {
   "cell_type": "code",
   "execution_count": 111,
   "metadata": {},
   "outputs": [],
   "source": [
    "a_max = best_params[0]\n",
    "b_max = best_params[1]\n",
    "c_max = best_params[2]\n",
    "a = true_params[0]\n",
    "b = true_params[1]\n",
    "c = true_params[2]\n",
    "X_matrix = np.vstack((a,b,c)).T\n",
    "mu_matrix = np.vstack((a_max, b_max,c_max)).T\n",
    "\n",
    "\n",
    "def max_likelihood(mu_matrix, F):\n",
    "    N = mu_matrix.shape[-1]\n",
    "    detF = np.linalg.det(F) #determinant of fisher matrix \n",
    "    inv_F = np.linalg.inv(F)\n",
    "    def get_distribution(x_matrix):\n",
    "        x_mu = (x_matrix-mu_matrix)\n",
    "        g_distribution = 1/((2*np.pi)**(N/2)*np.sqrt(np.linalg.det(F)))*np.exp(-0.5*np.einsum(\"ij,jk,ik->i\",x_mu, inv_F, x_mu))\n",
    "        return g_distribution\n",
    "    return get_distribution"
   ]
  },
  {
   "cell_type": "code",
   "execution_count": 112,
   "metadata": {},
   "outputs": [],
   "source": [
    "import numdifftools as nd"
   ]
  },
  {
   "cell_type": "code",
   "execution_count": 113,
   "metadata": {},
   "outputs": [
    {
     "name": "stdout",
     "output_type": "stream",
     "text": [
      "F= [[nan nan nan]\n",
      " [nan nan nan]\n",
      " [nan nan nan]] \n",
      " C= [[nan nan nan]\n",
      " [nan nan nan]\n",
      " [nan nan nan]]\n"
     ]
    },
    {
     "name": "stderr",
     "output_type": "stream",
     "text": [
      "/Users/listerchenzhile/miniconda3/lib/python3.7/site-packages/ipykernel_launcher.py:3: RuntimeWarning: divide by zero encountered in log\n",
      "  This is separate from the ipykernel package so we can avoid doing imports until\n",
      "/Users/listerchenzhile/miniconda3/lib/python3.7/site-packages/numdifftools/core.py:894: RuntimeWarning: invalid value encountered in subtract\n",
      "  hess[i, i] = (f(x + 2 * ee[i, :]) - 2 * fx + f(x - 2 * ee[i, :])) / (4. * hess[i, i])\n",
      "/Users/listerchenzhile/miniconda3/lib/python3.7/site-packages/numdifftools/core.py:899: RuntimeWarning: invalid value encountered in subtract\n",
      "  + f(x - ee[i, :] - ee[j, :])) / (4. * hess[j, i])\n",
      "/Users/listerchenzhile/miniconda3/lib/python3.7/site-packages/numdifftools/extrapolation.py:489: RuntimeWarning: invalid value encountered in less_equal\n",
      "  converged = err <= tol\n",
      "/Users/listerchenzhile/miniconda3/lib/python3.7/site-packages/numpy/lib/nanfunctions.py:1115: RuntimeWarning: All-NaN slice encountered\n",
      "  overwrite_input=overwrite_input)\n",
      "/Users/listerchenzhile/miniconda3/lib/python3.7/site-packages/numpy/lib/nanfunctions.py:1391: RuntimeWarning: All-NaN slice encountered\n",
      "  overwrite_input, interpolation)\n",
      "/Users/listerchenzhile/miniconda3/lib/python3.7/site-packages/numdifftools/limits.py:173: RuntimeWarning: invalid value encountered in less\n",
      "  outliers = (((abs(der) < (a_median / trim_fact)) +\n",
      "/Users/listerchenzhile/miniconda3/lib/python3.7/site-packages/numdifftools/limits.py:174: RuntimeWarning: invalid value encountered in greater\n",
      "  (abs(der) > (a_median * trim_fact))) * (a_median > 1e-8) +\n",
      "/Users/listerchenzhile/miniconda3/lib/python3.7/site-packages/numdifftools/limits.py:175: RuntimeWarning: invalid value encountered in less\n",
      "  ((der < p25 - 1.5 * iqr) + (p75 + 1.5 * iqr < der)))\n",
      "/Users/listerchenzhile/miniconda3/lib/python3.7/site-packages/numdifftools/limits.py:149: UserWarning: All-NaN slice encountered\n",
      "  warnings.warn(str(msg))\n"
     ]
    }
   ],
   "source": [
    "F           = nd.Hessian(p_of_params_log)(best_params)\n",
    "Hessian = F\n",
    "C           = np.linalg.inv(Hessian) #inverse of F\n",
    "print('F=',F,'\\n','C=',C)"
   ]
  },
  {
   "cell_type": "code",
   "execution_count": null,
   "metadata": {},
   "outputs": [],
   "source": [
    "a_max_high = best_params[0]\n",
    "b_max_high = best_params[1]\n",
    "a = true_params[0]\n",
    "b = true_params[1]\n",
    "X_matrix = np.vstack((a,b)).T\n",
    "mu_matrix = np.vstack((a_max_high,b_max_high)).T\n",
    "def max_likelihood(mu_matrix, F):\n",
    "    N = mu_matrix.shape[-1]\n",
    "    detF = np.linalg.det(F) #determinant of fisher matrix \n",
    "    inv_F = np.linalg.inv(F)\n",
    "    def get_distribution(x_matrix):\n",
    "        x_mu = (x_matrix-mu_matrix)\n",
    "        g_distribution = 1/((2*np.pi)**(N/2)*np.sqrt(np.linalg.det(F)))*np.exp(-0.5*np.einsum(\"ij,jk,ik->i\",x_mu, inv_F, x_mu))\n",
    "        return g_distribution\n",
    "    return get_distribution"
   ]
  },
  {
   "cell_type": "code",
   "execution_count": null,
   "metadata": {},
   "outputs": [],
   "source": [
    "F           = nd.Hessian(p_of_params_log)(best_params)\n",
    "Hessian = F\n",
    "C           = np.linalg.inv(Hessian) #inverse of F\n",
    "print('F=',F,'\\n','C=',C)"
   ]
  },
  {
   "cell_type": "code",
   "execution_count": null,
   "metadata": {},
   "outputs": [],
   "source": [
    "approx_posterior = get_Gaussian_nd(best_params,C)\n",
    "print(best_params)"
   ]
  },
  {
   "cell_type": "code",
   "execution_count": null,
   "metadata": {},
   "outputs": [],
   "source": []
  },
  {
   "cell_type": "code",
   "execution_count": null,
   "metadata": {},
   "outputs": [],
   "source": []
  },
  {
   "cell_type": "code",
   "execution_count": null,
   "metadata": {},
   "outputs": [],
   "source": []
  }
 ],
 "metadata": {
  "colab": {
   "collapsed_sections": [],
   "include_colab_link": true,
   "name": "UpgradeLFI_hack-scaled-subsample-score-compression.ipynb",
   "provenance": []
  },
  "kernelspec": {
   "display_name": "Python 3",
   "language": "python",
   "name": "python3"
  },
  "language_info": {
   "codemirror_mode": {
    "name": "ipython",
    "version": 3
   },
   "file_extension": ".py",
   "mimetype": "text/x-python",
   "name": "python",
   "nbconvert_exporter": "python",
   "pygments_lexer": "ipython3",
   "version": "3.7.3"
  }
 },
 "nbformat": 4,
 "nbformat_minor": 1
}
